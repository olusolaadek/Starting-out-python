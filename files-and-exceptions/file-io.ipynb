{
 "cells": [
  {
   "cell_type": "markdown",
   "metadata": {},
   "source": [
    "## Files and Exceptions"
   ]
  },
  {
   "cell_type": "code",
   "execution_count": 35,
   "metadata": {},
   "outputs": [],
   "source": [
    "file= open('data.txt','r')"
   ]
  },
  {
   "cell_type": "code",
   "execution_count": 36,
   "metadata": {},
   "outputs": [
    {
     "name": "stdout",
     "output_type": "stream",
     "text": [
      "Id Name\n",
      "\n",
      "P001 Ade\n",
      "\n",
      "P002 Laja\n",
      "\n"
     ]
    }
   ],
   "source": [
    "file= open('data.txt','r')\n",
    "\n",
    "for line in file.readlines():\n",
    "    print(line)"
   ]
  },
  {
   "cell_type": "code",
   "execution_count": 37,
   "metadata": {},
   "outputs": [],
   "source": [
    "file= open('data.txt','a')\n",
    "file.write('P004 Mose\\n')\n",
    "file.write('P004 Mose\\n')\n",
    "file.close()"
   ]
  },
  {
   "cell_type": "code",
   "execution_count": 38,
   "metadata": {},
   "outputs": [
    {
     "data": {
      "text/plain": [
       "['Id Name\\n', 'P001 Ade\\n', 'P002 Laja\\n', 'P004 Mose\\n', 'P004 Mose\\n']"
      ]
     },
     "execution_count": 38,
     "metadata": {},
     "output_type": "execute_result"
    }
   ],
   "source": [
    "file= open('data.txt','r')\n",
    "file.readlines()"
   ]
  },
  {
   "cell_type": "markdown",
   "metadata": {},
   "source": [
    "Read file"
   ]
  },
  {
   "cell_type": "code",
   "execution_count": 42,
   "metadata": {},
   "outputs": [
    {
     "name": "stdout",
     "output_type": "stream",
     "text": [
      "Id Name\n",
      "P001 Ade\n",
      "P002 Laja\n",
      "P004 Mose\n",
      "P004 Mose\n",
      "\n"
     ]
    }
   ],
   "source": [
    "infile = open('data.txt','r')\n",
    "file_content= infile.read()\n",
    "infile.close()\n",
    "print(file_content)"
   ]
  },
  {
   "cell_type": "code",
   "execution_count": 45,
   "metadata": {},
   "outputs": [
    {
     "name": "stdout",
     "output_type": "stream",
     "text": [
      "Id Name\n",
      "\n",
      "P001 Ade\n",
      "\n",
      "P002 Laja\n",
      "\n"
     ]
    }
   ],
   "source": [
    "infile = open('data.txt','r')\n",
    "line1= infile.readline()\n",
    "line2= infile.readline()\n",
    "line3= infile.readline()\n",
    "infile.close()\n",
    "print(line1)\n",
    "print(line2)\n",
    "print(line3)"
   ]
  },
  {
   "cell_type": "code",
   "execution_count": 44,
   "metadata": {},
   "outputs": [
    {
     "name": "stdout",
     "output_type": "stream",
     "text": [
      "['Id Name\\n', 'P001 Ade\\n', 'P002 Laja\\n', 'P004 Mose\\n', 'P004 Mose\\n']\n"
     ]
    }
   ],
   "source": [
    "infile = open('data.txt','r')\n",
    "file_content= infile.readlines()\n",
    "infile.close()\n",
    "print(file_content)"
   ]
  },
  {
   "cell_type": "markdown",
   "metadata": {},
   "source": [
    "Reading a String and Stripping the\n",
    "Newline from It"
   ]
  },
  {
   "cell_type": "code",
   "execution_count": null,
   "metadata": {},
   "outputs": [],
   "source": []
  }
 ],
 "metadata": {
  "kernelspec": {
   "display_name": "Python 3.10.8 64-bit",
   "language": "python",
   "name": "python3"
  },
  "language_info": {
   "codemirror_mode": {
    "name": "ipython",
    "version": 3
   },
   "file_extension": ".py",
   "mimetype": "text/x-python",
   "name": "python",
   "nbconvert_exporter": "python",
   "pygments_lexer": "ipython3",
   "version": "3.10.8"
  },
  "orig_nbformat": 4,
  "vscode": {
   "interpreter": {
    "hash": "369f2c481f4da34e4445cda3fffd2e751bd1c4d706f27375911949ba6bb62e1c"
   }
  }
 },
 "nbformat": 4,
 "nbformat_minor": 2
}
